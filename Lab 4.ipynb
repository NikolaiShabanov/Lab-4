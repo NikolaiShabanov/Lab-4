{
 "cells": [
  {
   "cell_type": "code",
   "execution_count": 1,
   "id": "dc3c16ad",
   "metadata": {},
   "outputs": [
    {
     "name": "stdout",
     "output_type": "stream",
     "text": [
      "Collecting numpy\n",
      "  Downloading numpy-1.24.3-cp311-cp311-win_amd64.whl (14.8 MB)\n",
      "     ---------------------------------------- 14.8/14.8 MB 9.5 MB/s eta 0:00:00\n",
      "Installing collected packages: numpy\n",
      "Successfully installed numpy-1.24.3\n",
      "Note: you may need to restart the kernel to use updated packages.\n"
     ]
    },
    {
     "name": "stderr",
     "output_type": "stream",
     "text": [
      "\n",
      "[notice] A new release of pip available: 22.3.1 -> 23.1.2\n",
      "[notice] To update, run: python.exe -m pip install --upgrade pip\n"
     ]
    }
   ],
   "source": [
    "pip install numpy"
   ]
  },
  {
   "cell_type": "markdown",
   "id": "eff29236",
   "metadata": {},
   "source": [
    "Вправа 1. Вводиться число n. Вивести масив разміра nхn, в якому по\n",
    "діагоналі йдуть числа від 1 до n, а інші числа рівні 0"
   ]
  },
  {
   "cell_type": "code",
   "execution_count": 5,
   "id": "1b50258e",
   "metadata": {},
   "outputs": [
    {
     "name": "stdout",
     "output_type": "stream",
     "text": [
      "Введите целое число: 5\n",
      "Time: 0.0\n"
     ]
    },
    {
     "data": {
      "text/plain": [
       "[[1, 0, 0, 0, 0],\n",
       " [0, 2, 0, 0, 0],\n",
       " [0, 0, 3, 0, 0],\n",
       " [0, 0, 0, 4, 0],\n",
       " [0, 0, 0, 0, 5]]"
      ]
     },
     "execution_count": 5,
     "metadata": {},
     "output_type": "execute_result"
    }
   ],
   "source": [
    "import time\n",
    "import sys\n",
    "N = input('Введите целое число: ')\n",
    "A = []\n",
    "start = time.time()\n",
    "for i in range(int(N)):\n",
    "    A.append([0]*int(N))\n",
    "    A[i][i] = i+1\n",
    "stop = time.time()\n",
    "print(f\"Time: {stop - start}\")\n",
    "A"
   ]
  },
  {
   "cell_type": "code",
   "execution_count": 76,
   "id": "ef0b034a",
   "metadata": {},
   "outputs": [
    {
     "name": "stdout",
     "output_type": "stream",
     "text": [
      "Введите целове число: 5\n",
      "Time: 0.0\n"
     ]
    },
    {
     "data": {
      "text/plain": [
       "array([[1, 0, 0, 0, 0],\n",
       "       [0, 2, 0, 0, 0],\n",
       "       [0, 0, 3, 0, 0],\n",
       "       [0, 0, 0, 4, 0],\n",
       "       [0, 0, 0, 0, 5]])"
      ]
     },
     "execution_count": 76,
     "metadata": {},
     "output_type": "execute_result"
    }
   ],
   "source": [
    "import numpy as np\n",
    "import time\n",
    "import sys\n",
    "N = input('Введите целое число: ')\n",
    "start = time.time()\n",
    "x = np.arange(1,int(N) + 1)\n",
    "matrix = np.diag(x)\n",
    "stop = time.time()\n",
    "print(f\"Time: {stop - start}\")\n",
    "matrix"
   ]
  },
  {
   "cell_type": "markdown",
   "id": "95d1f94c",
   "metadata": {},
   "source": [
    "Вправа 3. Вводяться 4 числа n, m, r, c. Вивести масив розміру n на m, в\n",
    "якому в кожному r -му рядку і в кожному c-му стовпчику стоять 0, а інші\n",
    "елементи дорівнюють 1."
   ]
  },
  {
   "cell_type": "code",
   "execution_count": 6,
   "id": "d02378f9",
   "metadata": {},
   "outputs": [
    {
     "name": "stdout",
     "output_type": "stream",
     "text": [
      "Введите 4 числа n, m, r, c, разделенных пробелом: 6 7 2 3\n",
      "Введенный список: ['6', '7', '2', '3']\n",
      "Time: 0.0\n"
     ]
    },
    {
     "data": {
      "text/plain": [
       "[[0, 0, 0, 0, 0, 0, 0],\n",
       " [0, 1, 1, 0, 1, 1, 0],\n",
       " [0, 0, 0, 0, 0, 0, 0],\n",
       " [0, 1, 1, 0, 1, 1, 0],\n",
       " [0, 0, 0, 0, 0, 0, 0],\n",
       " [0, 1, 1, 0, 1, 1, 0]]"
      ]
     },
     "execution_count": 6,
     "metadata": {},
     "output_type": "execute_result"
    }
   ],
   "source": [
    "import time\n",
    "import sys\n",
    "entered_list = input(\"Введите 4 числа n, m, r, c, разделенных пробелом: \").split()\n",
    "print(\"Введенный список:\", entered_list)\n",
    "num_list = list(map(int, entered_list))\n",
    "if num_list[1] % 2 == 0:\n",
    "    chet = num_list[0]-1\n",
    "else:\n",
    "    chet = num_list[0]\n",
    "k = 0\n",
    "l = 0\n",
    "A = []\n",
    "start = time.time()\n",
    "for i in range(num_list[0]):\n",
    "    A.append([1]*num_list[1])             \n",
    "for i in range(num_list[0]):\n",
    "    for j in range(num_list[1]):\n",
    "        if j == l:\n",
    "            A[i][j] = 0\n",
    "            l = l + num_list[3]\n",
    "        if j == chet:\n",
    "            l = 0\n",
    "        if k == i:\n",
    "            A[i][j] = 0\n",
    "    if k == i:\n",
    "        k = k + num_list[2]\n",
    "stop = time.time()\n",
    "print(f\"Time: {stop - start}\")\n",
    "A"
   ]
  },
  {
   "cell_type": "code",
   "execution_count": 266,
   "id": "de4a667b",
   "metadata": {},
   "outputs": [
    {
     "name": "stdout",
     "output_type": "stream",
     "text": [
      "Введите 4 числа n, m, r, c, разделенных пробелом: 6 7 2 3\n",
      "Введенный список: ['6', '7', '2', '3']\n",
      "Time: 0.0\n"
     ]
    },
    {
     "data": {
      "text/plain": [
       "array([[0., 0., 0., 0., 0., 0., 0.],\n",
       "       [0., 1., 1., 0., 1., 1., 0.],\n",
       "       [0., 0., 0., 0., 0., 0., 0.],\n",
       "       [0., 1., 1., 0., 1., 1., 0.],\n",
       "       [0., 0., 0., 0., 0., 0., 0.],\n",
       "       [0., 1., 1., 0., 1., 1., 0.]])"
      ]
     },
     "execution_count": 266,
     "metadata": {},
     "output_type": "execute_result"
    }
   ],
   "source": [
    "import numpy as np\n",
    "import time\n",
    "import sys\n",
    "entered_list = input(\"Введите 4 числа n, m, r, c, разделенных пробелом: \").split()\n",
    "print(\"Введенный список:\", entered_list)\n",
    "num_list = list(map(int, entered_list))\n",
    "k = list(range(0, num_list[0], num_list[2]))\n",
    "l = list(range(0, num_list[1], num_list[3]))\n",
    "start = time.time()\n",
    "c = np.ones((num_list[0], num_list[1]))\n",
    "c[k, :] = 0\n",
    "c[:,l] = 0\n",
    "stop = time.time()\n",
    "print(f\"Time: {stop - start}\")\n",
    "c"
   ]
  },
  {
   "cell_type": "markdown",
   "id": "a367f92a",
   "metadata": {},
   "source": [
    "Вправа 6. З клавіатури вводиться масив. Замінити всі ненульові елементи на -\n",
    "1."
   ]
  },
  {
   "cell_type": "code",
   "execution_count": 260,
   "id": "2440aac8",
   "metadata": {},
   "outputs": [
    {
     "name": "stdout",
     "output_type": "stream",
     "text": [
      "Введите список чисел разделенных пробелом: 3 4 0 9 7 0 6 0 4 0 3\n",
      "Введенный список: ['3', '4', '0', '9', '7', '0', '6', '0', '4', '0', '3']\n",
      "Time: 0.0\n"
     ]
    },
    {
     "data": {
      "text/plain": [
       "[-1, -1, 0, -1, -1, 0, -1, 0, -1, 0, -1]"
      ]
     },
     "execution_count": 260,
     "metadata": {},
     "output_type": "execute_result"
    }
   ],
   "source": [
    "import time\n",
    "import sys\n",
    "entered_list = input(\"Введите список чисел разделенных пробелом: \").split()\n",
    "print(\"Введенный список:\", entered_list)\n",
    "num_list = list(map(int, entered_list))\n",
    "start = time.time()\n",
    "for i in range(len(num_list)):\n",
    "    if num_list[i] != 0:\n",
    "        num_list[i] = -1\n",
    "stop = time.time()\n",
    "print(f\"Time: {stop - start}\")\n",
    "num_list"
   ]
  },
  {
   "cell_type": "code",
   "execution_count": 261,
   "id": "b3757dea",
   "metadata": {},
   "outputs": [
    {
     "name": "stdout",
     "output_type": "stream",
     "text": [
      "Введите список чисел разделенных пробелом: 3 4 0 9 7 0 6 0 4 0 3\n",
      "Time: 1.1942064762115479\n"
     ]
    },
    {
     "data": {
      "text/plain": [
       "array([-1, -1,  0, -1, -1,  0, -1,  0, -1,  0, -1])"
      ]
     },
     "execution_count": 261,
     "metadata": {},
     "output_type": "execute_result"
    }
   ],
   "source": [
    "import numpy as np\n",
    "import time\n",
    "import sys\n",
    "start = time.time()\n",
    "a = np.asarray(input(\"Введите список чисел разделенных пробелом: \").split())\n",
    "b = a.astype(int)\n",
    "b[b != 0] = -1\n",
    "stop = time.time()\n",
    "print(f\"Time: {stop - start}\")\n",
    "b"
   ]
  },
  {
   "cell_type": "markdown",
   "id": "7933e13c",
   "metadata": {},
   "source": [
    "Вправа 7. З клавіатури вводиться масив. Замінити всі нульові елементи на -1."
   ]
  },
  {
   "cell_type": "code",
   "execution_count": 259,
   "id": "2374eb53",
   "metadata": {},
   "outputs": [
    {
     "name": "stdout",
     "output_type": "stream",
     "text": [
      "Введите список чисел разделенных пробелом: 3 4 0 6 5 0 3 0 4\n",
      "Введенный список: ['3', '4', '0', '6', '5', '0', '3', '0', '4']\n",
      "Time: 0.0\n"
     ]
    },
    {
     "data": {
      "text/plain": [
       "[3, 4, -1, 6, 5, -1, 3, -1, 4]"
      ]
     },
     "execution_count": 259,
     "metadata": {},
     "output_type": "execute_result"
    }
   ],
   "source": [
    "import time\n",
    "import sys\n",
    "entered_list = input(\"Введите список чисел разделенных пробелом: \").split()\n",
    "print(\"Введенный список:\", entered_list)\n",
    "num_list = list(map(int, entered_list))\n",
    "start = time.time()\n",
    "for i in range(len(num_list)):\n",
    "    if num_list[i] == 0:\n",
    "        num_list[i] = -1\n",
    "stop = time.time()\n",
    "print(f\"Time: {stop - start}\")\n",
    "num_list"
   ]
  },
  {
   "cell_type": "code",
   "execution_count": 258,
   "id": "951f6f5a",
   "metadata": {},
   "outputs": [
    {
     "name": "stdout",
     "output_type": "stream",
     "text": [
      "Введите список чисел разделенных пробелом: 3 4 0 6 5 0 3 0 4\n",
      "Time: 1.9595043659210205\n"
     ]
    },
    {
     "data": {
      "text/plain": [
       "array([ 3,  4, -1,  6,  5, -1,  3, -1,  4])"
      ]
     },
     "execution_count": 258,
     "metadata": {},
     "output_type": "execute_result"
    }
   ],
   "source": [
    "import numpy as np\n",
    "import time\n",
    "import sys\n",
    "start = time.time()\n",
    "a = np.asarray(input(\"Введите список чисел разделенных пробелом: \").split())\n",
    "b = a.astype(int)\n",
    "b[b == 0] = -1\n",
    "stop = time.time()\n",
    "print(f\"Time: {stop - start}\")\n",
    "b"
   ]
  },
  {
   "cell_type": "markdown",
   "id": "64ae4246",
   "metadata": {},
   "source": [
    "Вправа 8. З клавіатури вводиться масив. Підрахувати в ньому кількість\n",
    "нульових та ненульвих елементів."
   ]
  },
  {
   "cell_type": "code",
   "execution_count": 256,
   "id": "e2e8e06e",
   "metadata": {},
   "outputs": [
    {
     "name": "stdout",
     "output_type": "stream",
     "text": [
      "Введите список чисел разделенных пробелом: 3 4 0 9 8 2 4 0 8 4 0\n",
      "Введенный список: ['3', '4', '0', '9', '8', '2', '4', '0', '8', '4', '0']\n",
      "Time: 0.0\n",
      "Нулів: 3\n",
      "Не нулів: 8\n"
     ]
    }
   ],
   "source": [
    "import time\n",
    "import sys\n",
    "entered_list = input(\"Введите список чисел разделенных пробелом: \").split()\n",
    "print(\"Введенный список:\", entered_list)\n",
    "num_list = list(map(int, entered_list))\n",
    "c = 0\n",
    "d = 0\n",
    "start = time.time()\n",
    "for i in range(len(num_list)):\n",
    "    if num_list[i] == 0:\n",
    "        c = c + 1\n",
    "    else:\n",
    "        d = d + 1\n",
    "stop = time.time()\n",
    "print(f\"Time: {stop - start}\")\n",
    "print(f\"Нулів: {c}\")\n",
    "print(f\"Не нулів: {d}\")"
   ]
  },
  {
   "cell_type": "code",
   "execution_count": 257,
   "id": "b2afc1e0",
   "metadata": {},
   "outputs": [
    {
     "name": "stdout",
     "output_type": "stream",
     "text": [
      "Введите список чисел разделенных пробелом: 3 4 0 9 8 2 4 0 8 4 0\n",
      "Нулів: 3\n",
      "Не нулів: 8\n",
      "Time: 1.3262813091278076\n"
     ]
    }
   ],
   "source": [
    "import numpy as np\n",
    "import time\n",
    "import sys\n",
    "start = time.time()\n",
    "a = np.asarray(input(\"Введите список чисел разделенных пробелом: \").split())\n",
    "b = a.astype(int)\n",
    "print(f\"Нулів: {np.sum(b==0)}\")\n",
    "print(f\"Не нулів: {np.sum(b!=0)}\")\n",
    "stop = time.time()\n",
    "print(f\"Time: {stop - start}\")"
   ]
  },
  {
   "cell_type": "markdown",
   "id": "30fe2aee",
   "metadata": {},
   "source": [
    "Вправа 11. Створити масив одиниць розміром n х n та додати до нього\n",
    "«рамку», сформовану з 0."
   ]
  },
  {
   "cell_type": "code",
   "execution_count": 255,
   "id": "8852fce9",
   "metadata": {},
   "outputs": [
    {
     "name": "stdout",
     "output_type": "stream",
     "text": [
      "Введите целое число: 4\n",
      "Time: 0.0\n"
     ]
    },
    {
     "data": {
      "text/plain": [
       "[[0, 0, 0, 0, 0, 0],\n",
       " [0, 1, 1, 1, 1, 0],\n",
       " [0, 1, 1, 1, 1, 0],\n",
       " [0, 1, 1, 1, 1, 0],\n",
       " [0, 1, 1, 1, 1, 0],\n",
       " [0, 0, 0, 0, 0, 0]]"
      ]
     },
     "execution_count": 255,
     "metadata": {},
     "output_type": "execute_result"
    }
   ],
   "source": [
    "import time\n",
    "import sys\n",
    "N = input('Введите целое число: ')\n",
    "G = int(N) + 2\n",
    "A = []\n",
    "start = time.time()\n",
    "for i in range(G):\n",
    "    A.append([1]*G)\n",
    "for i in range(G):\n",
    "    for j in range(G):\n",
    "        if i == 0 or i == G - 1 or j == 0 or j == G - 1:\n",
    "            A[i][j] = 0\n",
    "stop = time.time()\n",
    "print(f\"Time: {stop - start}\")\n",
    "A"
   ]
  },
  {
   "cell_type": "code",
   "execution_count": 4,
   "id": "7a2bbf6a",
   "metadata": {},
   "outputs": [
    {
     "name": "stdout",
     "output_type": "stream",
     "text": [
      "Введите целое число: 4\n",
      "Time: 0.0\n"
     ]
    },
    {
     "data": {
      "text/plain": [
       "array([[0., 0., 0., 0., 0., 0.],\n",
       "       [0., 1., 1., 1., 1., 0.],\n",
       "       [0., 1., 1., 1., 1., 0.],\n",
       "       [0., 1., 1., 1., 1., 0.],\n",
       "       [0., 1., 1., 1., 1., 0.],\n",
       "       [0., 0., 0., 0., 0., 0.]])"
      ]
     },
     "execution_count": 4,
     "metadata": {},
     "output_type": "execute_result"
    }
   ],
   "source": [
    "import numpy as np\n",
    "import time\n",
    "import sys\n",
    "N = input('Введите целое число: ')\n",
    "G = int(N) + 2\n",
    "start = time.time()\n",
    "a = np.ones((G,G))\n",
    "a[0,:] = 0\n",
    "a[:,0] = 0\n",
    "a[G-1,:] = 0\n",
    "a[:,G-1] = 0\n",
    "stop = time.time()\n",
    "print(f\"Time: {stop - start}\")\n",
    "a"
   ]
  },
  {
   "cell_type": "markdown",
   "id": "3bdf9666",
   "metadata": {},
   "source": [
    "Вправа 16. Заповнити вектор значеннями від 0 до n. Всі значення, що більші\n",
    "за n/4 та менші за 3n/4 замінити нулями"
   ]
  },
  {
   "cell_type": "code",
   "execution_count": 265,
   "id": "769346cf",
   "metadata": {},
   "outputs": [
    {
     "name": "stdout",
     "output_type": "stream",
     "text": [
      "Введите целое число: 10\n",
      "Time: 0.0\n"
     ]
    },
    {
     "data": {
      "text/plain": [
       "[0, 1, 2, 0, 0, 0, 0, 0, 8, 9, 10]"
      ]
     },
     "execution_count": 265,
     "metadata": {},
     "output_type": "execute_result"
    }
   ],
   "source": [
    "import time\n",
    "import sys\n",
    "N = input('Введите целое число: ')\n",
    "start = time.time()\n",
    "a = list(range(0, int(N)+1))\n",
    "for i in range(len(a)):\n",
    "    if a[i] > int(N)/4 and a[i] < 3*int(N)/4:\n",
    "        a[i] = 0\n",
    "stop = time.time()\n",
    "print(f\"Time: {stop - start}\")\n",
    "a"
   ]
  },
  {
   "cell_type": "code",
   "execution_count": 253,
   "id": "697596a4",
   "metadata": {},
   "outputs": [
    {
     "name": "stdout",
     "output_type": "stream",
     "text": [
      "Введите целое число: 10\n",
      "Time: 0.0\n"
     ]
    },
    {
     "data": {
      "text/plain": [
       "array([ 0,  1,  2,  0,  0,  0,  0,  0,  8,  9, 10])"
      ]
     },
     "execution_count": 253,
     "metadata": {},
     "output_type": "execute_result"
    }
   ],
   "source": [
    "import numpy as np\n",
    "import time\n",
    "import sys\n",
    "N = input('Введите целое число: ')\n",
    "start = time.time()\n",
    "a = np.arange(start=0,stop=int(N)+1)\n",
    "a[(a > int(N)/4) & (a < 3*int(N)/4)] = 0\n",
    "stop = time.time()\n",
    "print(f\"Time: {stop - start}\")\n",
    "a"
   ]
  },
  {
   "cell_type": "markdown",
   "id": "83c75040",
   "metadata": {},
   "source": [
    "Вправа 18. Згенерувати вектор з n випадкових чисел в діапазоні від 0 до 99.\n",
    "Визначити кількість унікальних чисел в послідовності."
   ]
  },
  {
   "cell_type": "code",
   "execution_count": 7,
   "id": "e7a6ad75",
   "metadata": {},
   "outputs": [
    {
     "name": "stdout",
     "output_type": "stream",
     "text": [
      "Введите целое число: 30\n",
      "Time: 0.0\n",
      "[22, 83, 39, 69, 73, 82, 77, 82, 62, 97, 36, 51, 90, 67, 64, 96, 56, 35, 51, 4, 37, 6, 97, 35, 82, 93, 49, 70, 27, 79]\n",
      "21\n"
     ]
    }
   ],
   "source": [
    "import random\n",
    "import time\n",
    "import sys\n",
    "N = input('Введите целое число: ')\n",
    "A = []\n",
    "K = 0\n",
    "start = time.time()\n",
    "for i in range(int(N)):\n",
    "    A.append(random.randint(0, 99))\n",
    "for i in A:\n",
    "    if A.count(i) == 1:\n",
    "        K = K + 1\n",
    "    else:\n",
    "        pass\n",
    "stop = time.time()\n",
    "print(f\"Time: {stop - start}\")\n",
    "print(A)\n",
    "print(K)"
   ]
  },
  {
   "cell_type": "code",
   "execution_count": 8,
   "id": "1a2d0f82",
   "metadata": {},
   "outputs": [
    {
     "name": "stdout",
     "output_type": "stream",
     "text": [
      "Введите целое число: 30\n",
      "Time: 0.0009965896606445312\n",
      "[ 3 60 81 37 54 28  6 24 76 78 19 89 70 40 91 23 23 78 11 72 60 43 47 47\n",
      " 97 24 59 59  7 96]\n",
      "24\n"
     ]
    }
   ],
   "source": [
    "import numpy as np\n",
    "import random\n",
    "import time\n",
    "import sys\n",
    "N = input('Введите целое число: ')\n",
    "K = 0\n",
    "start = time.time()\n",
    "A = np.random.randint(0,99,int(N))\n",
    "K = len(np.unique(A))\n",
    "stop = time.time()\n",
    "print(f\"Time: {stop - start}\")\n",
    "print(A)\n",
    "print(K)"
   ]
  },
  {
   "cell_type": "markdown",
   "id": "2dc76239",
   "metadata": {},
   "source": [
    "Вправа 19. Згенерувати вектор із n елементів, що рівномірно розміщені на\n",
    "інтервалі (0,1) – тобто обидва кінці інтервалу не включені. Значення вивести\n",
    "до 3 знаків після коми."
   ]
  },
  {
   "cell_type": "code",
   "execution_count": 338,
   "id": "2606a7fb",
   "metadata": {},
   "outputs": [
    {
     "name": "stdout",
     "output_type": "stream",
     "text": [
      "Введите целое число: 10\n",
      "Time: 0.0\n",
      "0.091\n"
     ]
    },
    {
     "data": {
      "text/plain": [
       "[0.091, 0.182, 0.273, 0.364, 0.455, 0.545, 0.636, 0.727, 0.818, 0.909]"
      ]
     },
     "execution_count": 338,
     "metadata": {},
     "output_type": "execute_result"
    }
   ],
   "source": [
    "import time\n",
    "import sys\n",
    "N = input('Введите целое число: ')\n",
    "shag = 1 / (int(N) + 1)\n",
    "A = [0] * int(N)\n",
    "start = time.time()\n",
    "for i in range(1,int(N)+1):\n",
    "    A[i-1] = shag * i\n",
    "    A[i-1] = round(A[i-1],3)\n",
    "stop = time.time()\n",
    "print(f\"Time: {stop - start}\")\n",
    "print(round(shag, 3))\n",
    "A"
   ]
  },
  {
   "cell_type": "code",
   "execution_count": 330,
   "id": "5383c7bf",
   "metadata": {},
   "outputs": [
    {
     "name": "stdout",
     "output_type": "stream",
     "text": [
      "Введите целое число: 10\n",
      "Time: 0.0\n",
      "[0.091 0.182 0.273 0.364 0.455 0.545 0.636 0.727 0.818 0.909]\n"
     ]
    }
   ],
   "source": [
    "import numpy as np\n",
    "import time\n",
    "import sys\n",
    "N = input('Введите целое число: ')\n",
    "start = time.time()\n",
    "A = np.linspace(0,1,int(N)+2)[1:-1]\n",
    "A = np.round_(A,decimals = 3)\n",
    "stop = time.time()\n",
    "print(f\"Time: {stop - start}\")\n",
    "print(A)"
   ]
  },
  {
   "cell_type": "markdown",
   "id": "456f0b21",
   "metadata": {},
   "source": [
    "2. Розв’язати систему за допомогою формул Крамера і виконати перевірку за\n",
    "допомогою:\n",
    "a) матричного множення;\n",
    "b) оберненої матриці;\n",
    "c) функції numpy.linalg.solve().\n",
    "Порівняти всі рішення за допомогою функції numpy.allclose()"
   ]
  },
  {
   "cell_type": "markdown",
   "id": "409b9486",
   "metadata": {},
   "source": [
    "a) матричного множення;"
   ]
  },
  {
   "cell_type": "code",
   "execution_count": 54,
   "id": "642517c9",
   "metadata": {},
   "outputs": [
    {
     "data": {
      "text/plain": [
       "True"
      ]
     },
     "execution_count": 54,
     "metadata": {},
     "output_type": "execute_result"
    }
   ],
   "source": [
    "import numpy as np\n",
    "matrix_list = [[1, 2, 3, 4], [2, 1, 2, 3], [3, 2, 1, 2], [4, 3, 2, 1]]\n",
    "vector_list = [5, 1, 1, -5]\n",
    "a = np.array(matrix_list)\n",
    "b = np.array(vector_list)\n",
    "d = np.linalg.det(a)\n",
    "adj = np.linalg.det(a) * np.linalg.inv(a)\n",
    "a_t = adj.transpose()\n",
    "x = np.dot(a_t, b)\n",
    "k = 1 / d\n",
    "x = x * k\n",
    "np.allclose(np.dot(a, x), b)"
   ]
  },
  {
   "cell_type": "markdown",
   "id": "a637fd63",
   "metadata": {},
   "source": [
    "b) оберненої матриці;"
   ]
  },
  {
   "cell_type": "code",
   "execution_count": 55,
   "id": "eb663273",
   "metadata": {},
   "outputs": [
    {
     "data": {
      "text/plain": [
       "True"
      ]
     },
     "execution_count": 55,
     "metadata": {},
     "output_type": "execute_result"
    }
   ],
   "source": [
    "import numpy as np\n",
    "matrix_list = [[1, 2, 3, 4], [2, 1, 2, 3], [3, 2, 1, 2], [4, 3, 2, 1]]\n",
    "vector_list = [5, 1, 1, -5]\n",
    "a = np.array(matrix_list)\n",
    "b = np.array(vector_list)\n",
    "inv_a = np.linalg.inv(a)\n",
    "x = np.dot(inv_a, b)\n",
    "np.allclose(np.dot(a, x), b)"
   ]
  },
  {
   "cell_type": "markdown",
   "id": "132a6ed8",
   "metadata": {},
   "source": [
    "c) функції numpy.linalg.solve()."
   ]
  },
  {
   "cell_type": "code",
   "execution_count": 56,
   "id": "561afd4b",
   "metadata": {},
   "outputs": [
    {
     "data": {
      "text/plain": [
       "True"
      ]
     },
     "execution_count": 56,
     "metadata": {},
     "output_type": "execute_result"
    }
   ],
   "source": [
    "import numpy as np\n",
    "matrix_list = [[1, 2, 3, 4], [2, 1, 2, 3], [3, 2, 1, 2], [4, 3, 2, 1]]\n",
    "vector_list = [5, 1, 1, -5]\n",
    "a = np.array(matrix_list)\n",
    "b = np.array(vector_list)\n",
    "x = np.linalg.solve(a, b)\n",
    "np.allclose(np.dot(a, x), b)"
   ]
  },
  {
   "cell_type": "markdown",
   "id": "0f34b503",
   "metadata": {},
   "source": [
    "3. Обчислити значення матричного виразу\n",
    "а) з використанням універсальних функцій бібліотеки NumPy.\n",
    "Порівняти всі рішення за допомогою функції numpy.allclose()"
   ]
  },
  {
   "cell_type": "code",
   "execution_count": 3,
   "id": "b4888cb4",
   "metadata": {},
   "outputs": [
    {
     "name": "stdout",
     "output_type": "stream",
     "text": [
      "Time: 0.0\n",
      "True\n",
      "True\n",
      "True\n",
      "True\n",
      "True\n"
     ]
    }
   ],
   "source": [
    "import numpy as np\n",
    "import time\n",
    "import sys\n",
    "matrix_list_A = [[5, 1, 7], [-10, -2, 1], [0, 1, 2]]\n",
    "matrix_list_B = [[2, 4, 1], [3, 1, 0], [7, 2, 1]]\n",
    "start = time.time()\n",
    "a = np.array(matrix_list_A)\n",
    "b = np.array(matrix_list_B)\n",
    "a_2 = np.linalg.matrix_power(a, 2)\n",
    "total = a_2 + b\n",
    "total2 = a - b\n",
    "multiplication = np.dot(total,total2)\n",
    "result = multiplication*2\n",
    "stop = time.time()\n",
    "print(f\"Time: {stop - start}\")\n",
    "print(np.allclose(np.dot(a, a), a_2))\n",
    "print(np.allclose(total, a_2 + b))\n",
    "print(np.allclose(total2, a - b))\n",
    "print(np.allclose(np.dot(total,total2), multiplication))\n",
    "print(np.allclose(multiplication*2, result))"
   ]
  },
  {
   "cell_type": "code",
   "execution_count": null,
   "id": "e7fbdedd",
   "metadata": {},
   "outputs": [],
   "source": []
  }
 ],
 "metadata": {
  "kernelspec": {
   "display_name": "Python 3 (ipykernel)",
   "language": "python",
   "name": "python3"
  },
  "language_info": {
   "codemirror_mode": {
    "name": "ipython",
    "version": 3
   },
   "file_extension": ".py",
   "mimetype": "text/x-python",
   "name": "python",
   "nbconvert_exporter": "python",
   "pygments_lexer": "ipython3",
   "version": "3.11.2"
  }
 },
 "nbformat": 4,
 "nbformat_minor": 5
}
